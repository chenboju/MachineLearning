{
  "nbformat": 4,
  "nbformat_minor": 0,
  "metadata": {
    "colab": {
      "provenance": [],
      "authorship_tag": "ABX9TyMPBbNx1oOzG2mVbTiR85EW",
      "include_colab_link": true
    },
    "kernelspec": {
      "name": "python3",
      "display_name": "Python 3"
    },
    "language_info": {
      "name": "python"
    }
  },
  "cells": [
    {
      "cell_type": "markdown",
      "metadata": {
        "id": "view-in-github",
        "colab_type": "text"
      },
      "source": [
        "<a href=\"https://colab.research.google.com/github/chenboju/MachineLearning/blob/main/%E8%B2%9D%E6%B0%8F%E5%88%86%E9%A1%9E.ipynb\" target=\"_parent\"><img src=\"https://colab.research.google.com/assets/colab-badge.svg\" alt=\"Open In Colab\"/></a>"
      ]
    },
    {
      "cell_type": "code",
      "execution_count": null,
      "metadata": {
        "id": "QSEE5HkBD_mZ",
        "colab": {
          "base_uri": "https://localhost:8080/"
        },
        "outputId": "3eaafa2f-f4f3-4d82-9635-61dcdc5f48eb"
      },
      "outputs": [
        {
          "output_type": "stream",
          "name": "stdout",
          "text": [
            "訓練資料正確性: 0.9619047619047619\n",
            "測試資料正確性: 0.9555555555555556\n",
            "標準答案: [1 0 0 1 0 0 2 2 1 2 0 2 1 0 0 1 1 1 0 1 2 2 0 0 0 1 2 2 2 2 0 2 0 1 0 0 0\n",
            " 0 1 1 2 2 0 0 0]\n",
            "預測答案: [1 0 0 1 0 0 2 2 1 2 0 2 1 0 0 1 1 1 0 1 2 2 0 0 0 1 2 1 2 2 0 2 0 1 0 0 0\n",
            " 0 1 1 1 2 0 0 0]\n"
          ]
        }
      ],
      "source": [
        "from sklearn.datasets import load_iris\n",
        "from sklearn.model_selection import train_test_split\n",
        "from sklearn.naive_bayes import GaussianNB\n",
        "\n",
        "#毒入燕尾花資料\n",
        "iris=load_iris()\n",
        "iris_data=iris.data\n",
        "iris_label=iris.target\n",
        "#切分訓練與測試資料\n",
        "train_data,test_data,train_label,test_label=train_test_split(iris_data,iris_label,test_size=0.3)\n",
        "#建立分類器\n",
        "clf=GaussianNB()\n",
        "clf.fit(train_data,train_label)\n",
        "print(\"訓練資料正確性:\",clf.score(train_data,train_label))\n",
        "print(\"測試資料正確性:\",clf.score(test_data,test_label))\n",
        "\n",
        "predict=clf.predict(test_data) # 預測\n",
        "print(\"標準答案:\",test_label) # 標準答案\n",
        "print(\"預測答案:\",predict) # 預測答案\n"
      ]
    },
    {
      "cell_type": "markdown",
      "source": [],
      "metadata": {
        "id": "okogdKizV7EP"
      }
    }
  ]
}