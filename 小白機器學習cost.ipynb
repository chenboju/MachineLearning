{
  "nbformat": 4,
  "nbformat_minor": 0,
  "metadata": {
    "colab": {
      "provenance": [],
      "authorship_tag": "ABX9TyN4qFZ80Gpsq0zWslGoNi/Q",
      "include_colab_link": true
    },
    "kernelspec": {
      "name": "python3",
      "display_name": "Python 3"
    },
    "language_info": {
      "name": "python"
    },
    "widgets": {
      "application/vnd.jupyter.widget-state+json": {
        "c36f50e28d8249d68c87e07edf701a7e": {
          "model_module": "@jupyter-widgets/controls",
          "model_name": "VBoxModel",
          "model_module_version": "1.5.0",
          "state": {
            "_dom_classes": [
              "widget-interact"
            ],
            "_model_module": "@jupyter-widgets/controls",
            "_model_module_version": "1.5.0",
            "_model_name": "VBoxModel",
            "_view_count": null,
            "_view_module": "@jupyter-widgets/controls",
            "_view_module_version": "1.5.0",
            "_view_name": "VBoxView",
            "box_style": "",
            "children": [
              "IPY_MODEL_5e77236af2244301b451725dddc8152d",
              "IPY_MODEL_34c0c1114eef48daa17314e47be1c37c",
              "IPY_MODEL_6639c7a5a6ac437bba85f2da25084744"
            ],
            "layout": "IPY_MODEL_6ba32a4de505469ebd71502223b0a3c3"
          }
        },
        "5e77236af2244301b451725dddc8152d": {
          "model_module": "@jupyter-widgets/controls",
          "model_name": "IntSliderModel",
          "model_module_version": "1.5.0",
          "state": {
            "_dom_classes": [],
            "_model_module": "@jupyter-widgets/controls",
            "_model_module_version": "1.5.0",
            "_model_name": "IntSliderModel",
            "_view_count": null,
            "_view_module": "@jupyter-widgets/controls",
            "_view_module_version": "1.5.0",
            "_view_name": "IntSliderView",
            "continuous_update": true,
            "description": "w",
            "description_tooltip": null,
            "disabled": false,
            "layout": "IPY_MODEL_ef448140f67f4fc18e652dddc249a927",
            "max": 100,
            "min": -100,
            "orientation": "horizontal",
            "readout": true,
            "readout_format": "d",
            "step": 5,
            "style": "IPY_MODEL_d90a9b3ad1b7442b8d5d8f602f1d5c9e",
            "value": 30
          }
        },
        "34c0c1114eef48daa17314e47be1c37c": {
          "model_module": "@jupyter-widgets/controls",
          "model_name": "IntSliderModel",
          "model_module_version": "1.5.0",
          "state": {
            "_dom_classes": [],
            "_model_module": "@jupyter-widgets/controls",
            "_model_module_version": "1.5.0",
            "_model_name": "IntSliderModel",
            "_view_count": null,
            "_view_module": "@jupyter-widgets/controls",
            "_view_module_version": "1.5.0",
            "_view_name": "IntSliderView",
            "continuous_update": true,
            "description": "b",
            "description_tooltip": null,
            "disabled": false,
            "layout": "IPY_MODEL_cdfda21388f14f50beca188470d8df98",
            "max": 100,
            "min": -100,
            "orientation": "horizontal",
            "readout": true,
            "readout_format": "d",
            "step": 5,
            "style": "IPY_MODEL_1c71dcc43e6b4e9f83879467a5e27b67",
            "value": -5
          }
        },
        "6639c7a5a6ac437bba85f2da25084744": {
          "model_module": "@jupyter-widgets/output",
          "model_name": "OutputModel",
          "model_module_version": "1.0.0",
          "state": {
            "_dom_classes": [],
            "_model_module": "@jupyter-widgets/output",
            "_model_module_version": "1.0.0",
            "_model_name": "OutputModel",
            "_view_count": null,
            "_view_module": "@jupyter-widgets/output",
            "_view_module_version": "1.0.0",
            "_view_name": "OutputView",
            "layout": "IPY_MODEL_ed4871cb5de74a7c94da3811d34c59a1",
            "msg_id": "",
            "outputs": [
              {
                "output_type": "display_data",
                "data": {
                  "text/plain": "<Figure size 640x480 with 1 Axes>",
                  "image/png": "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\n"
                },
                "metadata": {}
              }
            ]
          }
        },
        "6ba32a4de505469ebd71502223b0a3c3": {
          "model_module": "@jupyter-widgets/base",
          "model_name": "LayoutModel",
          "model_module_version": "1.2.0",
          "state": {
            "_model_module": "@jupyter-widgets/base",
            "_model_module_version": "1.2.0",
            "_model_name": "LayoutModel",
            "_view_count": null,
            "_view_module": "@jupyter-widgets/base",
            "_view_module_version": "1.2.0",
            "_view_name": "LayoutView",
            "align_content": null,
            "align_items": null,
            "align_self": null,
            "border": null,
            "bottom": null,
            "display": null,
            "flex": null,
            "flex_flow": null,
            "grid_area": null,
            "grid_auto_columns": null,
            "grid_auto_flow": null,
            "grid_auto_rows": null,
            "grid_column": null,
            "grid_gap": null,
            "grid_row": null,
            "grid_template_areas": null,
            "grid_template_columns": null,
            "grid_template_rows": null,
            "height": null,
            "justify_content": null,
            "justify_items": null,
            "left": null,
            "margin": null,
            "max_height": null,
            "max_width": null,
            "min_height": null,
            "min_width": null,
            "object_fit": null,
            "object_position": null,
            "order": null,
            "overflow": null,
            "overflow_x": null,
            "overflow_y": null,
            "padding": null,
            "right": null,
            "top": null,
            "visibility": null,
            "width": null
          }
        },
        "ef448140f67f4fc18e652dddc249a927": {
          "model_module": "@jupyter-widgets/base",
          "model_name": "LayoutModel",
          "model_module_version": "1.2.0",
          "state": {
            "_model_module": "@jupyter-widgets/base",
            "_model_module_version": "1.2.0",
            "_model_name": "LayoutModel",
            "_view_count": null,
            "_view_module": "@jupyter-widgets/base",
            "_view_module_version": "1.2.0",
            "_view_name": "LayoutView",
            "align_content": null,
            "align_items": null,
            "align_self": null,
            "border": null,
            "bottom": null,
            "display": null,
            "flex": null,
            "flex_flow": null,
            "grid_area": null,
            "grid_auto_columns": null,
            "grid_auto_flow": null,
            "grid_auto_rows": null,
            "grid_column": null,
            "grid_gap": null,
            "grid_row": null,
            "grid_template_areas": null,
            "grid_template_columns": null,
            "grid_template_rows": null,
            "height": null,
            "justify_content": null,
            "justify_items": null,
            "left": null,
            "margin": null,
            "max_height": null,
            "max_width": null,
            "min_height": null,
            "min_width": null,
            "object_fit": null,
            "object_position": null,
            "order": null,
            "overflow": null,
            "overflow_x": null,
            "overflow_y": null,
            "padding": null,
            "right": null,
            "top": null,
            "visibility": null,
            "width": null
          }
        },
        "d90a9b3ad1b7442b8d5d8f602f1d5c9e": {
          "model_module": "@jupyter-widgets/controls",
          "model_name": "SliderStyleModel",
          "model_module_version": "1.5.0",
          "state": {
            "_model_module": "@jupyter-widgets/controls",
            "_model_module_version": "1.5.0",
            "_model_name": "SliderStyleModel",
            "_view_count": null,
            "_view_module": "@jupyter-widgets/base",
            "_view_module_version": "1.2.0",
            "_view_name": "StyleView",
            "description_width": "",
            "handle_color": null
          }
        },
        "cdfda21388f14f50beca188470d8df98": {
          "model_module": "@jupyter-widgets/base",
          "model_name": "LayoutModel",
          "model_module_version": "1.2.0",
          "state": {
            "_model_module": "@jupyter-widgets/base",
            "_model_module_version": "1.2.0",
            "_model_name": "LayoutModel",
            "_view_count": null,
            "_view_module": "@jupyter-widgets/base",
            "_view_module_version": "1.2.0",
            "_view_name": "LayoutView",
            "align_content": null,
            "align_items": null,
            "align_self": null,
            "border": null,
            "bottom": null,
            "display": null,
            "flex": null,
            "flex_flow": null,
            "grid_area": null,
            "grid_auto_columns": null,
            "grid_auto_flow": null,
            "grid_auto_rows": null,
            "grid_column": null,
            "grid_gap": null,
            "grid_row": null,
            "grid_template_areas": null,
            "grid_template_columns": null,
            "grid_template_rows": null,
            "height": null,
            "justify_content": null,
            "justify_items": null,
            "left": null,
            "margin": null,
            "max_height": null,
            "max_width": null,
            "min_height": null,
            "min_width": null,
            "object_fit": null,
            "object_position": null,
            "order": null,
            "overflow": null,
            "overflow_x": null,
            "overflow_y": null,
            "padding": null,
            "right": null,
            "top": null,
            "visibility": null,
            "width": null
          }
        },
        "1c71dcc43e6b4e9f83879467a5e27b67": {
          "model_module": "@jupyter-widgets/controls",
          "model_name": "SliderStyleModel",
          "model_module_version": "1.5.0",
          "state": {
            "_model_module": "@jupyter-widgets/controls",
            "_model_module_version": "1.5.0",
            "_model_name": "SliderStyleModel",
            "_view_count": null,
            "_view_module": "@jupyter-widgets/base",
            "_view_module_version": "1.2.0",
            "_view_name": "StyleView",
            "description_width": "",
            "handle_color": null
          }
        },
        "ed4871cb5de74a7c94da3811d34c59a1": {
          "model_module": "@jupyter-widgets/base",
          "model_name": "LayoutModel",
          "model_module_version": "1.2.0",
          "state": {
            "_model_module": "@jupyter-widgets/base",
            "_model_module_version": "1.2.0",
            "_model_name": "LayoutModel",
            "_view_count": null,
            "_view_module": "@jupyter-widgets/base",
            "_view_module_version": "1.2.0",
            "_view_name": "LayoutView",
            "align_content": null,
            "align_items": null,
            "align_self": null,
            "border": null,
            "bottom": null,
            "display": null,
            "flex": null,
            "flex_flow": null,
            "grid_area": null,
            "grid_auto_columns": null,
            "grid_auto_flow": null,
            "grid_auto_rows": null,
            "grid_column": null,
            "grid_gap": null,
            "grid_row": null,
            "grid_template_areas": null,
            "grid_template_columns": null,
            "grid_template_rows": null,
            "height": null,
            "justify_content": null,
            "justify_items": null,
            "left": null,
            "margin": null,
            "max_height": null,
            "max_width": null,
            "min_height": null,
            "min_width": null,
            "object_fit": null,
            "object_position": null,
            "order": null,
            "overflow": null,
            "overflow_x": null,
            "overflow_y": null,
            "padding": null,
            "right": null,
            "top": null,
            "visibility": null,
            "width": null
          }
        }
      }
    }
  },
  "cells": [
    {
      "cell_type": "markdown",
      "metadata": {
        "id": "view-in-github",
        "colab_type": "text"
      },
      "source": [
        "<a href=\"https://colab.research.google.com/github/chenboju/MachineLearning/blob/main/%E5%B0%8F%E7%99%BD%E6%A9%9F%E5%99%A8%E5%AD%B8%E7%BF%92cost.ipynb\" target=\"_parent\"><img src=\"https://colab.research.google.com/assets/colab-badge.svg\" alt=\"Open In Colab\"/></a>"
      ]
    },
    {
      "cell_type": "code",
      "execution_count": 18,
      "metadata": {
        "colab": {
          "base_uri": "https://localhost:8080/"
        },
        "id": "_8p6lE2ot1W9",
        "outputId": "1db98a46-7cf6-40c9-efa2-4f71dca89833"
      },
      "outputs": [
        {
          "output_type": "stream",
          "name": "stdout",
          "text": [
            "    YearsExperience  Salary\n",
            "0               0.3    36.2\n",
            "1               0.6    36.6\n",
            "2               0.8    42.8\n",
            "3               1.1    39.3\n",
            "4               1.3    46.2\n",
            "5               1.5    37.7\n",
            "6               2.0    43.5\n",
            "7               2.2    39.8\n",
            "8               2.9    56.6\n",
            "9               3.0    60.1\n",
            "10              3.2    54.4\n",
            "11              3.2    64.4\n",
            "12              3.7    57.1\n",
            "13              3.9    63.2\n",
            "14              4.0    55.7\n",
            "15              4.0    56.9\n",
            "16              4.1    57.0\n",
            "17              4.5    61.1\n",
            "18              4.9    67.9\n",
            "19              5.1    66.0\n",
            "20              5.3    83.0\n",
            "21              5.9    81.3\n",
            "22              6.0    93.9\n",
            "23              6.8    91.7\n",
            "24              7.1    98.2\n",
            "25              7.9   101.3\n",
            "26              8.2   113.8\n",
            "27              8.7   109.4\n",
            "28              9.0   105.5\n",
            "29              9.5   116.9\n",
            "30              9.6   112.6\n",
            "31             10.3   122.3\n",
            "32             10.5   121.8\n"
          ]
        }
      ],
      "source": [
        "import pandas as pd\n",
        "\n",
        "url = \"https://raw.githubusercontent.com/GrandmaCan/ML/main/Resgression/Salary_Data.csv\"\n",
        "data = pd.read_csv(url)\n",
        "print(data)\n",
        "#y=w*x+b\n",
        "x=data[\"YearsExperience\"]\n",
        "y=data[\"Salary\"]\n"
      ]
    },
    {
      "cell_type": "code",
      "source": [
        "!pip install wget\n",
        "import wget\n",
        "wget.download(\"https://github.com/GrandmaCan/ML/raw/main/Resgression/ChineseFont.ttf\")"
      ],
      "metadata": {
        "colab": {
          "base_uri": "https://localhost:8080/",
          "height": 220
        },
        "id": "yeOg4UGe33e-",
        "outputId": "8ec4a120-2413-46c2-c255-d5c672f308d8"
      },
      "execution_count": 22,
      "outputs": [
        {
          "output_type": "stream",
          "name": "stdout",
          "text": [
            "Collecting wget\n",
            "  Downloading wget-3.2.zip (10 kB)\n",
            "  Preparing metadata (setup.py) ... \u001b[?25l\u001b[?25hdone\n",
            "Building wheels for collected packages: wget\n",
            "  Building wheel for wget (setup.py) ... \u001b[?25l\u001b[?25hdone\n",
            "  Created wheel for wget: filename=wget-3.2-py3-none-any.whl size=9657 sha256=99f46cbe99249b113018c994d1d73dc4b1d0c068ec73c59b5c307dbb28359550\n",
            "  Stored in directory: /root/.cache/pip/wheels/8b/f1/7f/5c94f0a7a505ca1c81cd1d9208ae2064675d97582078e6c769\n",
            "Successfully built wget\n",
            "Installing collected packages: wget\n",
            "Successfully installed wget-3.2\n"
          ]
        },
        {
          "output_type": "execute_result",
          "data": {
            "text/plain": [
              "'ChineseFont.ttf'"
            ],
            "application/vnd.google.colaboratory.intrinsic+json": {
              "type": "string"
            }
          },
          "metadata": {},
          "execution_count": 22
        }
      ]
    },
    {
      "cell_type": "code",
      "source": [
        "import matplotlib.pyplot as plt\n",
        "import matplotlib as mpl\n",
        "from matplotlib.font_manager import fontManager\n",
        "\n",
        "fontManager.addfont(\"ChineseFont.ttf\")\n",
        "mpl.rc('font', family=\"ChineseFont\")\n",
        "\n",
        "plt.scatter(x, y, marker=\"x\", color=\"red\")\n",
        "plt.title(\"年資-薪水\")\n",
        "plt.xlabel(\"年資\")\n",
        "plt.ylabel(\"月薪(千)\")\n",
        "plt.show()"
      ],
      "metadata": {
        "colab": {
          "base_uri": "https://localhost:8080/",
          "height": 472
        },
        "id": "nEJU1N5D3Cr1",
        "outputId": "dfbebdf7-81e0-43f2-eabc-8d24d8a133d4"
      },
      "execution_count": 23,
      "outputs": [
        {
          "output_type": "display_data",
          "data": {
            "text/plain": [
              "<Figure size 640x480 with 1 Axes>"
            ],
            "image/png": "[encoded data removed]"
          },
          "metadata": {}
        }
      ]
    },
    {
      "cell_type": "code",
      "source": [
        "w=0\n",
        "b=0\n",
        "y_pred=x*w+b\n",
        "plt.plot(x,y_pred)\n",
        "plt.scatter(x, y, marker=\"x\", color=\"red\")\n",
        "plt.title(\"年資-薪水\")\n",
        "plt.xlabel(\"年資\")\n",
        "plt.ylabel(\"月薪(千)\")\n",
        "plt.show()"
      ],
      "metadata": {
        "colab": {
          "base_uri": "https://localhost:8080/",
          "height": 472
        },
        "id": "S3ExWDbU4p9_",
        "outputId": "7be46ded-ae09-4a90-ee16-6cd61cccf22a"
      },
      "execution_count": 26,
      "outputs": [
        {
          "output_type": "display_data",
          "data": {
            "text/plain": [
              "<Figure size 640x480 with 1 Axes>"
            ],
            "image/png": "[encoded data removed]"
          },
          "metadata": {}
        }
      ]
    },
    {
      "cell_type": "code",
      "source": [
        "def plot_pred(w,b):\n",
        "  y_pred=x*w+b\n",
        "  plt.plot(x,y_pred,color=\"blue\",label=\"預測縣\")\n",
        "  plt.scatter(x, y, marker=\"x\", color=\"red\",label=\"真實數據\")\n",
        "  plt.title(\"年資-薪水\")\n",
        "  plt.xlabel(\"年資\")\n",
        "  plt.ylabel(\"月薪(千)\")\n",
        "  plt.xlim([0,12])\n",
        "  plt.ylim([0,140])\n",
        "  plt.legend()\n",
        "  plt.show()"
      ],
      "metadata": {
        "id": "3wy4IUzq5E_F"
      },
      "execution_count": 35,
      "outputs": []
    },
    {
      "cell_type": "code",
      "source": [
        "#plot_pred(w,b):\n",
        "plot_pred(10,0)"
      ],
      "metadata": {
        "colab": {
          "base_uri": "https://localhost:8080/",
          "height": 472
        },
        "id": "8ZVspQRy54ET",
        "outputId": "46d2bd46-4dfa-4cad-930b-c87b5c0e1711"
      },
      "execution_count": 40,
      "outputs": [
        {
          "output_type": "display_data",
          "data": {
            "text/plain": [
              "<Figure size 640x480 with 1 Axes>"
            ],
            "image/png": "[encoded data removed]"
          },
          "metadata": {}
        }
      ]
    },
    {
      "cell_type": "code",
      "source": [
        "from ipywidgets import interact\n",
        "interact(plot_pred,w=(-100,100,5),b=(-100,100,5))"
      ],
      "metadata": {
        "colab": {
          "base_uri": "https://localhost:8080/",
          "height": 554,
          "referenced_widgets": [
            "c36f50e28d8249d68c87e07edf701a7e",
            "5e77236af2244301b451725dddc8152d",
            "34c0c1114eef48daa17314e47be1c37c",
            "6639c7a5a6ac437bba85f2da25084744",
            "6ba32a4de505469ebd71502223b0a3c3",
            "ef448140f67f4fc18e652dddc249a927",
            "d90a9b3ad1b7442b8d5d8f602f1d5c9e",
            "cdfda21388f14f50beca188470d8df98",
            "1c71dcc43e6b4e9f83879467a5e27b67",
            "ed4871cb5de74a7c94da3811d34c59a1"
          ]
        },
        "id": "Bjc1zej960E1",
        "outputId": "367bb917-80f9-4f85-dc73-907ca864cdc7"
      },
      "execution_count": 47,
      "outputs": [
        {
          "output_type": "display_data",
          "data": {
            "text/plain": [
              "interactive(children=(IntSlider(value=0, description='w', min=-100, step=5), IntSlider(value=0, description='b…"
            ],
            "application/vnd.jupyter.widget-view+json": {
              "version_major": 2,
              "version_minor": 0,
              "model_id": "c36f50e28d8249d68c87e07edf701a7e"
            }
          },
          "metadata": {}
        },
        {
          "output_type": "execute_result",
          "data": {
            "text/plain": [
              "<function __main__.plot_pred(w, b)>"
            ]
          },
          "metadata": {},
          "execution_count": 47
        }
      ]
    },
    {
      "cell_type": "code",
      "source": [
        "#cost function=cost= (真實數據-預測值 )^2\n",
        "# y_pred=預測值 y=真實資料\n",
        "w=10\n",
        "b=0\n",
        "y_pred =w*x+b\n",
        "cost=(y-y_pred)**2\n",
        "print(cost)\n",
        "print(cost.sum())\n",
        "print(cost.sum()/len(x))"
      ],
      "metadata": {
        "colab": {
          "base_uri": "https://localhost:8080/"
        },
        "id": "XDFMWfj579Dr",
        "outputId": "1d2f5176-c140-4575-fa61-6ec9b7e2824c"
      },
      "execution_count": 52,
      "outputs": [
        {
          "output_type": "stream",
          "name": "stdout",
          "text": [
            "0     1102.24\n",
            "1      936.36\n",
            "2     1211.04\n",
            "3      800.89\n",
            "4     1102.24\n",
            "5      515.29\n",
            "6      552.25\n",
            "7      316.84\n",
            "8      761.76\n",
            "9      906.01\n",
            "10     501.76\n",
            "11    1049.76\n",
            "12     404.01\n",
            "13     585.64\n",
            "14     246.49\n",
            "15     285.61\n",
            "16     256.00\n",
            "17     259.21\n",
            "18     357.21\n",
            "19     225.00\n",
            "20     900.00\n",
            "21     497.29\n",
            "22    1149.21\n",
            "23     561.69\n",
            "24     739.84\n",
            "25     497.29\n",
            "26    1011.24\n",
            "27     501.76\n",
            "28     240.25\n",
            "29     479.61\n",
            "30     275.56\n",
            "31     372.49\n",
            "32     282.24\n",
            "dtype: float64\n",
            "19884.080000000005\n",
            "602.547878787879\n"
          ]
        }
      ]
    },
    {
      "cell_type": "code",
      "source": [
        "def total_cost(x,y,w,b):\n",
        "  y_pred =w*x+b\n",
        "  cost=(y-y_pred)**2\n",
        "  # print(cost)\n",
        "  # print(cost.sum())\n",
        "  # print(cost.sum()/len(x))\n",
        "  cost=cost.sum()/len(x)\n",
        "\n",
        "  return cost"
      ],
      "metadata": {
        "id": "DP21DqSI-bR2"
      },
      "execution_count": 64,
      "outputs": []
    },
    {
      "cell_type": "code",
      "source": [
        "cost(x,y,10,0)"
      ],
      "metadata": {
        "colab": {
          "base_uri": "https://localhost:8080/"
        },
        "id": "4W3EJvzK-1w3",
        "outputId": "b3d149cf-d71f-4e80-c171-6c40501709c3"
      },
      "execution_count": 56,
      "outputs": [
        {
          "output_type": "execute_result",
          "data": {
            "text/plain": [
              "602.547878787879"
            ]
          },
          "metadata": {},
          "execution_count": 56
        }
      ]
    },
    {
      "cell_type": "code",
      "source": [
        "#b=o w=-100~100 cost=??\n",
        "costs=[]\n",
        "for w in range(-100,101):\n",
        "  cost=total_cost(x,y,w,0)\n",
        "  costs.append(cost)\n",
        "costs"
      ],
      "metadata": {
        "colab": {
          "base_uri": "https://localhost:8080/"
        },
        "id": "aQtgK5ff-__r",
        "outputId": "9a957587-1ba9-4194-a830-d2ee4f6c6b8b"
      },
      "execution_count": 71,
      "outputs": [
        {
          "output_type": "execute_result",
          "data": {
            "text/plain": [
              "[420951.08121212124,\n",
              " 413557.2063636363,\n",
              " 406228.88242424245,\n",
              " 398966.1093939394,\n",
              " 391768.8872727272,\n",
              " 384637.21606060606,\n",
              " 377571.0957575757,\n",
              " 370570.52636363637,\n",
              " 363635.5078787879,\n",
              " 356766.0403030302,\n",
              " 349962.12363636366,\n",
              " 343223.7578787879,\n",
              " 336550.94303030305,\n",
              " 329943.6790909091,\n",
              " 323401.966060606,\n",
              " 316925.8039393939,\n",
              " 310515.19272727263,\n",
              " 304170.13242424245,\n",
              " 297890.623030303,\n",
              " 291676.6645454545,\n",
              " 285528.25696969696,\n",
              " 279445.40030303027,\n",
              " 273428.0945454546,\n",
              " 267476.33969696966,\n",
              " 261590.1357575757,\n",
              " 255769.48272727273,\n",
              " 250014.38060606056,\n",
              " 244324.82939393938,\n",
              " 238700.82909090907,\n",
              " 233142.3796969697,\n",
              " 227649.4812121212,\n",
              " 222222.13363636364,\n",
              " 216860.33696969692,\n",
              " 211564.0912121212,\n",
              " 206333.39636363636,\n",
              " 201168.25242424244,\n",
              " 196068.6593939394,\n",
              " 191034.61727272722,\n",
              " 186066.12606060607,\n",
              " 181163.18575757576,\n",
              " 176325.79636363636,\n",
              " 171553.95787878786,\n",
              " 166847.67030303032,\n",
              " 162206.93363636362,\n",
              " 157631.7478787879,\n",
              " 153122.113030303,\n",
              " 148678.02909090905,\n",
              " 144299.49606060603,\n",
              " 139986.51393939395,\n",
              " 135739.0827272727,\n",
              " 131557.20242424242,\n",
              " 127440.87303030302,\n",
              " 123390.09454545454,\n",
              " 119404.86696969694,\n",
              " 115485.19030303031,\n",
              " 111631.06454545453,\n",
              " 107842.4896969697,\n",
              " 104119.46575757574,\n",
              " 100461.99272727272,\n",
              " 96870.0706060606,\n",
              " 93343.69939393939,\n",
              " 89882.87909090909,\n",
              " 86487.60969696968,\n",
              " 83157.8912121212,\n",
              " 79893.72363636363,\n",
              " 76695.10696969698,\n",
              " 73562.04121212121,\n",
              " 70494.52636363637,\n",
              " 67492.56242424241,\n",
              " 64556.149393939384,\n",
              " 61685.28727272727,\n",
              " 58879.97606060606,\n",
              " 56140.21575757576,\n",
              " 53466.00636363636,\n",
              " 50857.34787878788,\n",
              " 48314.2403030303,\n",
              " 45836.68363636363,\n",
              " 43424.67787878788,\n",
              " 41078.22303030303,\n",
              " 38797.31909090909,\n",
              " 36581.96606060606,\n",
              " 34432.16393939394,\n",
              " 32347.91272727273,\n",
              " 30329.21242424242,\n",
              " 28376.063030303034,\n",
              " 26488.464545454543,\n",
              " 24666.41696969697,\n",
              " 22909.920303030303,\n",
              " 21218.97454545455,\n",
              " 19593.5796969697,\n",
              " 18033.73575757576,\n",
              " 16539.44272727273,\n",
              " 15110.700606060605,\n",
              " 13747.509393939394,\n",
              " 12449.869090909091,\n",
              " 11217.779696969697,\n",
              " 10051.241212121213,\n",
              " 8950.253636363635,\n",
              " 7914.81696969697,\n",
              " 6944.931212121212,\n",
              " 6040.596363636363,\n",
              " 5201.812424242424,\n",
              " 4428.579393939393,\n",
              " 3720.8972727272726,\n",
              " 3078.7660606060604,\n",
              " 2502.1857575757576,\n",
              " 1991.1563636363637,\n",
              " 1545.6778787878789,\n",
              " 1165.750303030303,\n",
              " 851.3736363636364,\n",
              " 602.547878787879,\n",
              " 419.27303030303034,\n",
              " 301.54909090909086,\n",
              " 249.37606060606066,\n",
              " 262.75393939393945,\n",
              " 341.6827272727273,\n",
              " 486.1624242424242,\n",
              " 696.1930303030302,\n",
              " 971.7745454545454,\n",
              " 1312.9069696969698,\n",
              " 1719.590303030303,\n",
              " 2191.8245454545454,\n",
              " 2729.609696969697,\n",
              " 3332.9457575757574,\n",
              " 4001.8327272727265,\n",
              " 4736.270606060605,\n",
              " 5536.259393939394,\n",
              " 6401.7990909090895,\n",
              " 7332.889696969696,\n",
              " 8329.531212121212,\n",
              " 9391.723636363637,\n",
              " 10519.466969696969,\n",
              " 11712.761212121211,\n",
              " 12971.606363636363,\n",
              " 14296.002424242422,\n",
              " 15685.949393939394,\n",
              " 17141.44727272727,\n",
              " 18662.49606060606,\n",
              " 20249.095757575757,\n",
              " 21901.24636363636,\n",
              " 23618.94787878788,\n",
              " 25402.200303030302,\n",
              " 27251.003636363635,\n",
              " 29165.357878787876,\n",
              " 31145.26303030303,\n",
              " 33190.71909090909,\n",
              " 35301.72606060606,\n",
              " 37478.283939393936,\n",
              " 39720.39272727272,\n",
              " 42028.05242424242,\n",
              " 44401.26303030303,\n",
              " 46840.024545454544,\n",
              " 49344.33696969697,\n",
              " 51914.20030303031,\n",
              " 54549.61454545455,\n",
              " 57250.5796969697,\n",
              " 60017.09575757576,\n",
              " 62849.16272727272,\n",
              " 65746.7806060606,\n",
              " 68709.9493939394,\n",
              " 71738.6690909091,\n",
              " 74832.9396969697,\n",
              " 77992.76121212122,\n",
              " 81218.13363636362,\n",
              " 84509.05696969696,\n",
              " 87865.53121212122,\n",
              " 91287.55636363637,\n",
              " 94775.13242424243,\n",
              " 98328.25939393938,\n",
              " 101946.93727272727,\n",
              " 105631.16606060608,\n",
              " 109380.94575757576,\n",
              " 113196.27636363637,\n",
              " 117077.15787878788,\n",
              " 121023.5903030303,\n",
              " 125035.57363636365,\n",
              " 129113.1078787879,\n",
              " 133256.19303030302,\n",
              " 137464.82909090907,\n",
              " 141739.01606060608,\n",
              " 146078.75393939397,\n",
              " 150484.04272727275,\n",
              " 154954.88242424242,\n",
              " 159491.273030303,\n",
              " 164093.21454545457,\n",
              " 168760.70696969697,\n",
              " 173493.7503030303,\n",
              " 178292.34454545454,\n",
              " 183156.48969696971,\n",
              " 188086.18575757576,\n",
              " 193081.4327272727,\n",
              " 198142.23060606062,\n",
              " 203268.57939393944,\n",
              " 208460.4790909091,\n",
              " 213717.9296969697,\n",
              " 219040.9312121212,\n",
              " 224429.48363636364,\n",
              " 229883.586969697,\n",
              " 235403.24121212118,\n",
              " 240988.44636363635,\n",
              " 246639.20242424245]"
            ]
          },
          "metadata": {},
          "execution_count": 71
        }
      ]
    }
  ]
}